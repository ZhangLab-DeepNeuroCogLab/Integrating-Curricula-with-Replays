{
 "cells": [
  {
   "cell_type": "code",
   "execution_count": null,
   "metadata": {
    "colab": {
     "base_uri": "https://localhost:8080/"
    },
    "executionInfo": {
     "elapsed": 2659,
     "status": "ok",
     "timestamp": 1658922645095,
     "user": {
      "displayName": "TEE REN JIE HCI",
      "userId": "04791724457078636513"
     },
     "user_tz": -480
    },
    "id": "IJfHCousiiMj",
    "outputId": "879e60b4-83d6-4889-e44d-d50f9f036d47",
    "pycharm": {
     "is_executing": true,
     "name": "#%%\n"
    }
   },
   "outputs": [],
   "source": [
    "import pickle\n",
    "import os \n",
    "import matplotlib.pyplot as plt\n",
    "import numpy as np\n",
    "\n",
    "path = \"./Results/VaryInterleave\"\n",
    "dirlist = os.listdir(path)\n",
    "\n",
    "dirlist.sort()\n",
    "print(dirlist)"
   ]
  },
  {
   "cell_type": "markdown",
   "metadata": {
    "id": "g3y3DCXVZ75H",
    "pycharm": {
     "name": "#%% md\n"
    }
   },
   "source": [
    "# classes = ('plane', 'car', 'bird', 'cat', 'deer', 'dog', 'frog', 'horse', 'ship', 'truck') "
   ]
  },
  {
   "cell_type": "code",
   "execution_count": null,
   "metadata": {
    "colab": {
     "base_uri": "https://localhost:8080/",
     "height": 1000
    },
    "executionInfo": {
     "elapsed": 6213,
     "status": "ok",
     "timestamp": 1658922989338,
     "user": {
      "displayName": "TEE REN JIE HCI",
      "userId": "04791724457078636513"
     },
     "user_tz": -480
    },
    "id": "VbQo4sB3nyuV",
    "outputId": "a3f22a9c-da7c-4b27-8ece-50cee2ca8811",
    "pycharm": {
     "name": "#%%\n"
    }
   },
   "outputs": [],
   "source": [
    "# All my data total accuracy + accuracy by class --> 32 Plots\n",
    "\n",
    "fig, axs = plt.subplots(nrows=21, ncols=2, figsize=(30, 210))\n",
    "plt.subplots_adjust(hspace=0.2)\n",
    "\n",
    "def pairwise(iterable):\n",
    "    \"s -> (s0, s1), (s2, s3), (s4, s5), ...\"\n",
    "    a = iter(iterable)\n",
    "    return zip(a, a)\n",
    "\n",
    "# loop through tickers and axes\n",
    "for dir, ax12 in zip(dirlist, pairwise(axs.ravel())):\n",
    "    # filter df for ticker and plot on specified axes\n",
    "    aa = pickle.load(open(f'{path}/{dir}/Accuracy by class.pkl', 'rb'))\n",
    "    x = aa.index.to_list()\n",
    "    for i in list(aa):\n",
    "        y = aa[i]\n",
    "        ax12[0].plot(x, y, label=i)\n",
    "    # chart formatting\n",
    "    ax12[0].set_title(dir)\n",
    "    ax12[0].legend()\n",
    "    ax12[0].set_xticks(np.arange(min(x), max(x)+10, 500))\n",
    "    ax12[0].set_ylim(0,100)\n",
    "    ax12[0].grid()\n",
    "    ax12[0].set_xlabel(\"Total Epochs\")\n",
    "    ax12[0].set_ylabel(\"Accuracy by class (%)\")\n",
    "\n",
    "    bb = pickle.load(open(f'{path}/{dir}/Total Accuracy.pkl', 'rb'))\n",
    "    x = bb.index.to_list()\n",
    "    y = bb['Accuracy']\n",
    "    ax12[1].plot(x, y)\n",
    "    # chart formatting\n",
    "    ax12[1].set_title(dir)\n",
    "    ax12[1].set_xticks(np.arange(min(x), max(x)+10, 500))\n",
    "    ax12[1].grid()\n",
    "    ax12[1].set_xlabel(\"Total Batches (960 Batch per Task)\")\n",
    "    ax12[1].set_ylabel(\"Total Accuracy (%)\")\n",
    "    ax12[1].set_ylim(bottom=0, top=100)\n",
    "\n",
    "fig.savefig(\"./All Data.svg\", format='svg')\n",
    "\n",
    "\n"
   ]
  },
  {
   "cell_type": "code",
   "execution_count": null,
   "metadata": {
    "colab": {
     "base_uri": "https://localhost:8080/",
     "height": 1000
    },
    "executionInfo": {
     "elapsed": 1914,
     "status": "ok",
     "timestamp": 1658923003694,
     "user": {
      "displayName": "TEE REN JIE HCI",
      "userId": "04791724457078636513"
     },
     "user_tz": -480
    },
    "id": "utzSGqZI-CkA",
    "outputId": "a534a9d3-414a-4d97-8859-ba042670e709",
    "pycharm": {
     "name": "#%%\n"
    }
   },
   "outputs": [],
   "source": [
    "# Average of Total Accuracy Plots accross each replay sequence --> 5 Plots\n",
    "\n",
    "fig, axs = plt.subplots(nrows=2, ncols=1, figsize=(30, 20))\n",
    "plt.subplots_adjust(hspace=0.2)\n",
    "dirwithoutruns = set([x.replace(\"-seed10000\",\"\").replace(\"-seed1000\",\"\").replace(\"-seed100\",\"\").replace(\"-seed10\",\"\").replace(\"-seed1\",\"\").replace(\"-seed50000\",\"\").replace(\"-seed5000\",\"\").replace(\"-seed500\",\"\").replace(\"-seed50\",\"\").replace(\"-seed5\",\"\") for x in dirlist])\n",
    "print(dirwithoutruns)\n",
    "# dirwithoutruns = set([x.replace(\"shuffleseed100\",\"\").replace(\"shuffleseed10\",\"\").replace(\"shuffleseed1\",\"\") for x in dirlist])\n",
    "\n",
    "dirwithoutruns = list(dirwithoutruns)\n",
    "dirwithoutruns = [n for n in dirwithoutruns if \"shuffle\" not in n]\n",
    "dirwithoutruns.sort()\n",
    "print(dirwithoutruns)\n",
    "\n",
    "for dir, ax in zip(dirwithoutruns, axs.ravel()):\n",
    "  aa = pickle.load(open(f'{path}/{dir}-seed1/Total Accuracy.pkl', 'rb'))\n",
    "  bb = pickle.load(open(f'{path}/{dir}-seed10/Total Accuracy.pkl', 'rb'))\n",
    "  cc = pickle.load(open(f'{path}/{dir}-seed100/Total Accuracy.pkl', 'rb'))\n",
    "  dd = pickle.load(open(f'{path}/{dir}-seed1000/Total Accuracy.pkl', 'rb'))\n",
    "  ee = pickle.load(open(f'{path}/{dir}-seed10000/Total Accuracy.pkl', 'rb'))\n",
    "  ff = pickle.load(open(f'{path}/{dir}-seed5/Total Accuracy.pkl', 'rb'))\n",
    "  gg = pickle.load(open(f'{path}/{dir}-seed50/Total Accuracy.pkl', 'rb'))\n",
    "  hh = pickle.load(open(f'{path}/{dir}-seed500/Total Accuracy.pkl', 'rb'))\n",
    "  ii = pickle.load(open(f'{path}/{dir}-seed5000/Total Accuracy.pkl', 'rb'))\n",
    "  jj = pickle.load(open(f'{path}/{dir}-seed50000/Total Accuracy.pkl', 'rb'))\n",
    "  # aa = pickle.load(open(f'{path}/{dir}shuffleseed1/Total Accuracy.pkl', 'rb'))\n",
    "  # bb = pickle.load(open(f'{path}/{dir}shuffleseed10/Total Accuracy.pkl', 'rb'))\n",
    "  # cc = pickle.load(open(f'{path}/{dir}shuffleseed100/Total Accuracy.pkl', 'rb'))\n",
    "  \n",
    "\n",
    "  x = aa.index.to_list()\n",
    "  yaa = aa['Accuracy']\n",
    "  ybb = bb['Accuracy']\n",
    "  ycc = cc['Accuracy']\n",
    "  ydd = dd['Accuracy']\n",
    "  yee = ee['Accuracy']\n",
    "  yff = ff['Accuracy']\n",
    "  ygg = gg['Accuracy']\n",
    "  yhh = hh['Accuracy']\n",
    "  yii = ii['Accuracy']\n",
    "  yjj = jj['Accuracy']\n",
    "  \n",
    "  yavg = [(yaa[i]+ybb[i]+ycc[i]+ydd[i]+yee[i]+yff[i]+ygg[i]+yhh[i]+yii[i]+yjj[i])/10 for i in x]\n",
    "\n",
    "  # import pandas as pd\n",
    "  # x1=range(len(yavg))\n",
    "  # y1=yavg\n",
    "  # dftotalaccuracy = pd.DataFrame(data={\"Accuracy\":y1}, index=x1) \n",
    "  # name = dir.replace(\"seqseed\",\"\")\n",
    "  # os.mkdir(f\"./Baseline-seed{name}\")\n",
    "  # dftotalaccuracy.to_pickle(f\"./Baseline-seed{name}/Total Accuracy.pkl\")\n",
    "\n",
    "  # ax.plot(x, yaa, label=\"Run 1\", linewidth=0.5)\n",
    "  # ax.plot(x, ybb, label=\"Run 2\", linewidth=0.6)\n",
    "  # ax.plot(x, ycc, label=\"Run 3\", linewidth=0.7)\n",
    "  ax.plot(x, yavg, label=\"Average\", linewidth=0.8)\n",
    "  \n",
    "  ax.set_title(dir)\n",
    "  ax.legend()\n",
    "  ax.set_xticks(np.arange(min(x), max(x)+10, 480))\n",
    "  ax.grid()\n",
    "  ax.set_xlabel(\"Total Batches (960 Batch per Task)\")\n",
    "  ax.set_ylabel(\"Total Accuracy (%)\")\n",
    "  ax.set_ylim(top=100)\n",
    "\n",
    "fig.savefig(\"./Average Total Accuracy Accross Seeds.svg\", format='svg')"
   ]
  },
  {
   "cell_type": "code",
   "execution_count": null,
   "metadata": {
    "colab": {
     "base_uri": "https://localhost:8080/",
     "height": 669
    },
    "executionInfo": {
     "elapsed": 1083,
     "status": "ok",
     "timestamp": 1658923013702,
     "user": {
      "displayName": "TEE REN JIE HCI",
      "userId": "04791724457078636513"
     },
     "user_tz": -480
    },
    "id": "d6sVhYEwXu54",
    "outputId": "f05ac9b5-a23b-4abb-f1a9-07f9357ea351",
    "pycharm": {
     "name": "#%%\n"
    }
   },
   "outputs": [],
   "source": [
    "# Average of Total Accuracy Plots accross each replay sequence --> 1 Plot\n",
    "\n",
    "fig, ax = plt.subplots(figsize=(15,10))\n",
    "\n",
    "dirwithoutruns2 = dirwithoutruns.copy()\n",
    "# dirwithoutruns2.pop(0)\n",
    "dirwithoutruns2 = sorted(dirwithoutruns2, key=lambda x:int(x[6:]))\n",
    "# dirwithoutruns2.append(\"Baseline\")\n",
    "print(dirwithoutruns2)\n",
    "\n",
    "colorlis = [\"#000000\",\"#330000\",\"#660000\",\"#990000\",\"#cc0000\",\"#ff0000\",\"#ff3333\",\"#ff6666\", \"#ff9999\"]\n",
    "colorlis.reverse()\n",
    "count = 0\n",
    "valueforanotherplot = {}\n",
    "\n",
    "for dir in dirwithoutruns2:\n",
    "  aa = pickle.load(open(f'{path}/{dir}-seed1/Total Accuracy.pkl', 'rb'))\n",
    "  bb = pickle.load(open(f'{path}/{dir}-seed10/Total Accuracy.pkl', 'rb'))\n",
    "  cc = pickle.load(open(f'{path}/{dir}-seed100/Total Accuracy.pkl', 'rb'))\n",
    "  dd = pickle.load(open(f'{path}/{dir}-seed1000/Total Accuracy.pkl', 'rb'))\n",
    "  ee = pickle.load(open(f'{path}/{dir}-seed10000/Total Accuracy.pkl', 'rb'))\n",
    "  ff = pickle.load(open(f'{path}/{dir}-seed5/Total Accuracy.pkl', 'rb'))\n",
    "  gg = pickle.load(open(f'{path}/{dir}-seed50/Total Accuracy.pkl', 'rb'))\n",
    "  hh = pickle.load(open(f'{path}/{dir}-seed500/Total Accuracy.pkl', 'rb'))\n",
    "  ii = pickle.load(open(f'{path}/{dir}-seed5000/Total Accuracy.pkl', 'rb'))\n",
    "  jj = pickle.load(open(f'{path}/{dir}-seed50000/Total Accuracy.pkl', 'rb'))\n",
    "\n",
    "  x = [1, 2, 3, 4, 5]\n",
    "  yaa = aa['Accuracy']\n",
    "  ybb = bb['Accuracy']\n",
    "  ycc = cc['Accuracy']\n",
    "  ydd = dd['Accuracy']\n",
    "  yee = ee['Accuracy']\n",
    "  yff = ff['Accuracy']\n",
    "  ygg = gg['Accuracy']\n",
    "  yhh = hh['Accuracy']\n",
    "  yii = ii['Accuracy']\n",
    "  yjj = jj['Accuracy']\n",
    "\n",
    "  yavg = [(yaa[i*250+249]+ybb[i*250+249]+ycc[i*250+249]+ydd[i*250+249]+yee[i*250+249]+yff[i*250+249]+ygg[i*250+249]+yhh[i*250+249]+yii[i*250+249]+yjj[i*250+249])/10 for i in [0, 1, 2, 3, 4]]\n",
    "  # ax.plot(x, yavg, label=dir, color=colorlis[count])\n",
    " \n",
    "  if dir != \"Baseline\":\n",
    "    ax.plot(x, yavg, label=dir, color=colorlis[count])\n",
    "    valueforanotherplot[int(dir[6:])] = yavg[-1]\n",
    "    count+=1\n",
    "  else:\n",
    "    ax.plot(x, yavg, label=dir,color=\"c\")\n",
    "    valueforanotherplot[\"Baseline\"] = yavg[-1]\n",
    "  \n",
    "ychance = [1/(i*2)*100 for i in range(1, 6)]\n",
    "ax.plot(x, ychance, label=\"Chance Level\", linestyle='dashed',color=\"g\")\n",
    "\n",
    "ax.set_title(\"Total Accuracy (%) against Task\")\n",
    "ax.legend()\n",
    "ax.set_xticks(np.arange(min(x), max(x)+1))\n",
    "ax.grid()\n",
    "ax.set_xlabel(\"Task\")\n",
    "ax.set_ylabel(\"Total Accuracy (%)\") #Avg Accuracy up to current task\n",
    "ax.set_ylim(top=100, bottom=0) # Font size\n",
    "\n",
    "fig.savefig(\"./Total Accuracy (%) against Task at EndPoint.svg\", format = 'svg')"
   ]
  },
  {
   "cell_type": "code",
   "execution_count": null,
   "metadata": {},
   "outputs": [],
   "source": [
    "fig, ax = plt.subplots(figsize=(15,7))\n",
    "if \"Baseline\" in valueforanotherplot:\n",
    "    baseline = valueforanotherplot.pop(\"Baseline\")\n",
    "ax.plot(valueforanotherplot.keys(), valueforanotherplot.values(), label=\"Various\")\n",
    "# ax.plot([0,400],[baseline]*2, label=\"Baseline\")\n",
    "ax.set_title(\"Total Accuracy (%) against Divisions\")\n",
    "ax.set_xticks(np.arange(0, 401, 20))\n",
    "ax.set_yticks(np.arange(0, 100, 1))\n",
    "ax.grid()\n",
    "ax.set_xlabel(\"Divisions\")\n",
    "ax.set_ylabel(\"Total Accuracy (%)\") #Avg Accuracy up to current task\n",
    "ax.set_ylim(top=36, bottom=30)\n",
    "fig.savefig(\"./Total Accuracy against Division at Task 5.svg\", format = 'svg')\n",
    "ax.legend()"
   ]
  },
  {
   "cell_type": "code",
   "execution_count": null,
   "metadata": {},
   "outputs": [],
   "source": [
    "path = \"./Results/VaryInterleave\"\n",
    "dirlist = os.listdir(path)"
   ]
  },
  {
   "cell_type": "code",
   "execution_count": null,
   "metadata": {},
   "outputs": [],
   "source": [
    "# Average of Total Accuracy Plots accross each replay sequence --> 1 Plot\n",
    "\n",
    "fig, ax = plt.subplots(figsize=(30,10))\n",
    "\n",
    "dirwithoutruns2 = dirwithoutruns.copy()\n",
    "print(dirwithoutruns2)\n",
    "\n",
    "for dir in dirwithoutruns2:\n",
    "  aa = pickle.load(open(f'{path}/{dir}-seed10000/Total Accuracy.pkl', 'rb'))\n",
    "\n",
    "  x = list(range(1250))\n",
    "  yaa = aa['Accuracy']\n",
    "\n",
    "  ax.plot(x, yaa, label=dir)\n",
    "  \n",
    "ychance = []\n",
    "for i in range(1,6):\n",
    "    ychance += [1/(i*2)*100]*250\n",
    "len(ychance)\n",
    "ax.plot(x, ychance, label=\"Chance Level\", linestyle='dashed')\n",
    "\n",
    "ax.set_title(\"Average of Total Accuracy Plots accross each replay sequence\")\n",
    "ax.legend()\n",
    "ax.set_xticks(np.arange(min(x), max(x)+1, 100))\n",
    "ax.grid()\n",
    "ax.set_xlabel(\"Task\")\n",
    "ax.set_ylabel(\"Average Accuracy Accross All Introduced Classes (%)\") #Avg Accuracy up to current task\n",
    "ax.set_ylim(top=100, bottom=0) # Font size\n",
    "\n",
    "fig.savefig(\"./Total Accuracy Seed10000.svg\", format = 'svg')"
   ]
  }
 ],
 "metadata": {
  "colab": {
   "collapsed_sections": [],
   "name": "Plots (Buffer intersperse with task data-original task sequence-iterate buffer sequence)",
   "provenance": []
  },
  "gpuClass": "standard",
  "kernelspec": {
   "display_name": "Python 3.10.4 ('h3proj')",
   "language": "python",
   "name": "python3"
  },
  "language_info": {
   "codemirror_mode": {
    "name": "ipython",
    "version": 3
   },
   "file_extension": ".py",
   "mimetype": "text/x-python",
   "name": "python",
   "nbconvert_exporter": "python",
   "pygments_lexer": "ipython3",
   "version": "3.10.4 (main, Mar 31 2022, 08:41:55) [GCC 7.5.0]"
  },
  "vscode": {
   "interpreter": {
    "hash": "fd2e15dcfa79e67ec4b0a5139d6eef0a5890862ced0f2356e7dc517b3b648806"
   }
  }
 },
 "nbformat": 4,
 "nbformat_minor": 0
}
