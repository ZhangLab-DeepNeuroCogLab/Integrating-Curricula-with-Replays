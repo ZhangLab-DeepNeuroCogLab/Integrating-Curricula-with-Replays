{
 "cells": [
  {
   "cell_type": "code",
   "execution_count": null,
   "metadata": {
    "colab": {
     "base_uri": "https://localhost:8080/"
    },
    "executionInfo": {
     "elapsed": 2659,
     "status": "ok",
     "timestamp": 1658922645095,
     "user": {
      "displayName": "TEE REN JIE HCI",
      "userId": "04791724457078636513"
     },
     "user_tz": -480
    },
    "id": "IJfHCousiiMj",
    "outputId": "879e60b4-83d6-4889-e44d-d50f9f036d47",
    "pycharm": {
     "is_executing": true,
     "name": "#%%\n"
    }
   },
   "outputs": [],
   "source": [
    "import pickle\n",
    "import os \n",
    "import matplotlib.pyplot as plt\n",
    "import numpy as np\n",
    "\n",
    "path = \"./Results/CatastrophicForgetting\"\n",
    "dirlist = os.listdir(path)\n",
    "\n",
    "dirlist.sort(key=lambda x:int(x[4:]))\n",
    "print(dirlist)"
   ]
  },
  {
   "cell_type": "markdown",
   "metadata": {
    "id": "g3y3DCXVZ75H",
    "pycharm": {
     "name": "#%% md\n"
    }
   },
   "source": [
    "# classes = ('plane', 'car', 'bird', 'cat', 'deer', 'dog', 'frog', 'horse', 'ship', 'truck') "
   ]
  },
  {
   "cell_type": "code",
   "execution_count": null,
   "metadata": {
    "colab": {
     "base_uri": "https://localhost:8080/",
     "height": 669
    },
    "executionInfo": {
     "elapsed": 1083,
     "status": "ok",
     "timestamp": 1658923013702,
     "user": {
      "displayName": "TEE REN JIE HCI",
      "userId": "04791724457078636513"
     },
     "user_tz": -480
    },
    "id": "d6sVhYEwXu54",
    "outputId": "f05ac9b5-a23b-4abb-f1a9-07f9357ea351",
    "pycharm": {
     "name": "#%%\n"
    }
   },
   "outputs": [],
   "source": [
    "# Average of Total Accuracy Plots accross each replay sequence --> 1 Plot\n",
    "def sum_lists(*args):\n",
    "    return list(map(sum, zip(*args)))\n",
    "\n",
    "fig, ax = plt.subplots(figsize=(8,6))\n",
    "l = []\n",
    "for dir in dirlist:\n",
    "  aa = pickle.load(open(f'{path}/{dir}/Accuracy by class.pkl', 'rb'))\n",
    "  classacc = {}\n",
    "  lis = [i*250+249 for i in range(5)]\n",
    "  for j in lis:\n",
    "    dic = aa.loc[j].to_dict()\n",
    "    for i in [\"plane\", \"car\"]:\n",
    "      if i not in classacc:\n",
    "        classacc[i]=[dic[i]]\n",
    "      else:\n",
    "        classacc[i].append(dic[i])\n",
    "  l.append(classacc)\n",
    "\n",
    "finalacc = {}\n",
    "for i in l[0]:\n",
    "  finalacc[i] = [j/10 for j in sum_lists(l[0][i],l[1][i],l[2][i],l[3][i],l[4][i],l[5][i],l[6][i],l[7][i],l[8][i],l[9][i])]\n",
    "\n",
    "\n",
    "finalacc[\"plane\"] = [(finalacc[\"plane\"][0]-i)/(finalacc[\"plane\"][0])*100 for i in finalacc[\"plane\"]]\n",
    "finalacc[\"car\"] = [(finalacc[\"car\"][0]-i)/(finalacc[\"car\"][0])*100 for i in finalacc[\"car\"]]\n",
    "ax.plot([1,2,3,4,5], finalacc[\"plane\"], label=\"plane\", linewidth=5)\n",
    "ax.plot([1,2,3,4,5], finalacc[\"car\"], label=\"car\", linewidth=5, linestyle=\"dotted\")\n",
    "# ax.set_title(\"Percentage of Forgetting (%) against Task\", fontsize=20)\n",
    "ax.legend(fontsize=20)\n",
    "ax.set_xticks([1,2,3,4,5])\n",
    "ax.grid()\n",
    "ax.set_xlabel(\"Task\", fontsize=20)\n",
    "ax.set_ylabel(\"Percentage of Forgetting (%)\", fontsize=20) #Avg Accuracy up to current task\n",
    "ax.set_ylim(top=105, bottom=0) # Font size\n",
    "ax.set_xticklabels([1,2,3,4,5],fontsize=20)\n",
    "ax.set_yticklabels([0,20,40,60,80,100], fontsize=20)\n",
    "\n",
    "fig.savefig(\"./Percentage of Forgetting (%) against Task at EndPoint.svg\", format = 'svg')"
   ]
  },
  {
   "cell_type": "code",
   "execution_count": null,
   "metadata": {},
   "outputs": [],
   "source": [
    "fig, ax = plt.subplots(figsize=(8,6))\n",
    "ax.scatter([2,3,4,5], [0.840, 0.751, 0.610, 0.209], linewidth=5)\n",
    "# ax.set_title(\"Percentage of Forgetting (%) against Task\", fontsize=20)\n",
    "ax.legend(fontsize=20)\n",
    "ax.set_xticks([2,3,4,5])\n",
    "ax.grid()\n",
    "ax.set_xlabel(\"Task\", fontsize=20)\n",
    "ax.set_ylabel(\"ANOVA p-value (sorting by class)\", fontsize=20) #Avg Accuracy up to current task\n",
    "ax.set_ylim(top=1, bottom=0) # Font size\n",
    "ax.set_xticklabels([2,3,4,5],fontsize=20)\n",
    "ax.set_yticklabels([0,0.2,0.4,0.6,0.8,1], fontsize=20)\n",
    "\n",
    "fig.savefig(\"./anova.svg\", format = 'svg')"
   ]
  }
 ],
 "metadata": {
  "colab": {
   "collapsed_sections": [],
   "name": "Plots (Buffer intersperse with task data-original task sequence-iterate buffer sequence)",
   "provenance": []
  },
  "gpuClass": "standard",
  "kernelspec": {
   "display_name": "Python 3.10.4 ('h3proj')",
   "language": "python",
   "name": "python3"
  },
  "language_info": {
   "codemirror_mode": {
    "name": "ipython",
    "version": 3
   },
   "file_extension": ".py",
   "mimetype": "text/x-python",
   "name": "python",
   "nbconvert_exporter": "python",
   "pygments_lexer": "ipython3",
   "version": "3.10.4 (main, Mar 31 2022, 08:41:55) [GCC 7.5.0]"
  },
  "vscode": {
   "interpreter": {
    "hash": "fd2e15dcfa79e67ec4b0a5139d6eef0a5890862ced0f2356e7dc517b3b648806"
   }
  }
 },
 "nbformat": 4,
 "nbformat_minor": 0
}
